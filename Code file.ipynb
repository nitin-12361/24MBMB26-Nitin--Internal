{
 "cells": [
  {
   "cell_type": "code",
   "execution_count": 0,
   "metadata": {
    "application/vnd.databricks.v1+cell": {
     "cellMetadata": {
      "byteLimit": 2048000,
      "implicitDf": true,
      "rowLimit": 10000
     },
     "inputWidgets": {},
     "nuid": "980e471f-41ca-41c0-a7bf-3c9fdcac9104",
     "showTitle": false,
     "tableResultSettingsMap": {},
     "title": ""
    }
   },
   "outputs": [
    {
     "output_type": "display_data",
     "data": {
      "text/html": [
       "<style scoped>\n",
       "  .table-result-container {\n",
       "    max-height: 300px;\n",
       "    overflow: auto;\n",
       "  }\n",
       "  table, th, td {\n",
       "    border: 1px solid black;\n",
       "    border-collapse: collapse;\n",
       "  }\n",
       "  th, td {\n",
       "    padding: 5px;\n",
       "  }\n",
       "  th {\n",
       "    text-align: left;\n",
       "  }\n",
       "</style><div class='table-result-container'><table class='table-result'><thead style='background-color: white'><tr><th>Customer ID</th><th>Customer Name</th><th>Gender</th><th>Age</th><th>Contact Number</th><th>Email</th><th>Membership Status</th><th>Payment Mode</th><th>Customer Feedback/Rating</th><th>Popular Service</th><th>Category</th><th>Service Type</th><th>Peak Time</th></tr></thead><tbody><tr><td>CUST001</td><td>Customer1</td><td>Male</td><td>19</td><td>9876546048</td><td>customer1@mail.com</td><td>No</td><td>Card</td><td>2</td><td>Spa Package</td><td>Spa</td><td>Spa Package</td><td>Morning</td></tr><tr><td>CUST002</td><td>Customer2</td><td>Other</td><td>52</td><td>9876521395</td><td>customer2@mail.com</td><td>Platinum</td><td>Wallet</td><td>1</td><td>Spa Package</td><td>Spa</td><td>Spa Package</td><td>Morning</td></tr><tr><td>CUST003</td><td>Customer3</td><td>Male</td><td>32</td><td>9876576237</td><td>customer3@mail.com</td><td>Platinum</td><td>Cash</td><td>5</td><td>Haircut</td><td>Hair</td><td>Haircut</td><td>Afternoon</td></tr><tr><td>CUST004</td><td>Customer4</td><td>Other</td><td>52</td><td>9876564987</td><td>customer4@mail.com</td><td>No</td><td>Wallet</td><td>5</td><td>Spa Package</td><td>Spa</td><td>Spa Package</td><td>Evening</td></tr><tr><td>CUST005</td><td>Customer5</td><td>Male</td><td>45</td><td>9876554597</td><td>customer5@mail.com</td><td>Gold</td><td>Card</td><td>2</td><td>Haircut</td><td>Hair</td><td>Haircut</td><td>Evening</td></tr><tr><td>CUST006</td><td>Customer6</td><td>Male</td><td>42</td><td>9876522676</td><td>customer6@mail.com</td><td>Gold</td><td>UPI</td><td>5</td><td>Haircut</td><td>Hair</td><td>Haircut</td><td>Evening</td></tr><tr><td>CUST007</td><td>Customer7</td><td>Other</td><td>47</td><td>9876580284</td><td>customer7@mail.com</td><td>Yes</td><td>Wallet</td><td>1</td><td>Haircut</td><td>Hair</td><td>Haircut</td><td>Evening</td></tr><tr><td>CUST008</td><td>Customer8</td><td>Other</td><td>41</td><td>9876585674</td><td>customer8@mail.com</td><td>No</td><td>Cash</td><td>1</td><td>Spa Package</td><td>Spa</td><td>Spa Package</td><td>Afternoon</td></tr><tr><td>CUST009</td><td>Customer9</td><td>Male</td><td>32</td><td>9876523238</td><td>customer9@mail.com</td><td>Silver</td><td>UPI</td><td>4</td><td>Massage</td><td>Spa</td><td>Massage</td><td>Evening</td></tr><tr><td>CUST010</td><td>Customer10</td><td>Female</td><td>40</td><td>9876537460</td><td>customer10@mail.com</td><td>Gold</td><td>Cash</td><td>5</td><td>Facial</td><td>Skin</td><td>Facial</td><td>Afternoon</td></tr><tr><td>CUST011</td><td>Customer11</td><td>Other</td><td>33</td><td>9876531417</td><td>customer11@mail.com</td><td>Silver</td><td>Wallet</td><td>3</td><td>Pedicure</td><td>Nails</td><td>Pedicure</td><td>Afternoon</td></tr><tr><td>CUST012</td><td>Customer12</td><td>Female</td><td>21</td><td>9876540021</td><td>customer12@mail.com</td><td>Yes</td><td>UPI</td><td>4</td><td>Spa Package</td><td>Spa</td><td>Spa Package</td><td>Evening</td></tr><tr><td>CUST013</td><td>Customer13</td><td>Male</td><td>54</td><td>9876551245</td><td>customer13@mail.com</td><td>No</td><td>Wallet</td><td>4</td><td>Haircut</td><td>Hair</td><td>Haircut</td><td>Weekend</td></tr><tr><td>CUST014</td><td>Customer14</td><td>Female</td><td>26</td><td>9876542325</td><td>customer14@mail.com</td><td>Platinum</td><td>UPI</td><td>5</td><td>Facial</td><td>Skin</td><td>Facial</td><td>Weekend</td></tr><tr><td>CUST015</td><td>Customer15</td><td>Female</td><td>41</td><td>9876538746</td><td>customer15@mail.com</td><td>No</td><td>Wallet</td><td>1</td><td>Pedicure</td><td>Nails</td><td>Pedicure</td><td>Morning</td></tr><tr><td>CUST016</td><td>Customer16</td><td>Male</td><td>58</td><td>9876530969</td><td>customer16@mail.com</td><td>Silver</td><td>Cash</td><td>4</td><td>Haircut</td><td>Hair</td><td>Haircut</td><td>Weekend</td></tr><tr><td>CUST017</td><td>Customer17</td><td>Female</td><td>51</td><td>9876542953</td><td>customer17@mail.com</td><td>Platinum</td><td>Cash</td><td>1</td><td>Pedicure</td><td>Nails</td><td>Pedicure</td><td>Evening</td></tr><tr><td>CUST018</td><td>Customer18</td><td>Female</td><td>25</td><td>9876548469</td><td>customer18@mail.com</td><td>Silver</td><td>Card</td><td>4</td><td>Spa Package</td><td>Spa</td><td>Spa Package</td><td>Morning</td></tr><tr><td>CUST019</td><td>Customer19</td><td>Other</td><td>34</td><td>9876575612</td><td>customer19@mail.com</td><td>No</td><td>Cash</td><td>3</td><td>Spa Package</td><td>Spa</td><td>Spa Package</td><td>Afternoon</td></tr><tr><td>CUST020</td><td>Customer20</td><td>Female</td><td>28</td><td>9876580697</td><td>customer20@mail.com</td><td>Platinum</td><td>Cash</td><td>5</td><td>Facial</td><td>Skin</td><td>Facial</td><td>Evening</td></tr><tr><td>CUST021</td><td>Customer21</td><td>Male</td><td>25</td><td>9876557576</td><td>customer21@mail.com</td><td>Gold</td><td>Card</td><td>1</td><td>Manicure</td><td>Nails</td><td>Manicure</td><td>Afternoon</td></tr><tr><td>CUST022</td><td>Customer22</td><td>Male</td><td>23</td><td>9876573699</td><td>customer22@mail.com</td><td>Yes</td><td>Card</td><td>2</td><td>Pedicure</td><td>Nails</td><td>Pedicure</td><td>Weekend</td></tr><tr><td>CUST023</td><td>Customer23</td><td>Male</td><td>34</td><td>9876579163</td><td>customer23@mail.com</td><td>Platinum</td><td>Wallet</td><td>2</td><td>Pedicure</td><td>Nails</td><td>Pedicure</td><td>Afternoon</td></tr><tr><td>CUST024</td><td>Customer24</td><td>Female</td><td>43</td><td>9876598039</td><td>customer24@mail.com</td><td>Gold</td><td>Wallet</td><td>5</td><td>Spa Package</td><td>Spa</td><td>Spa Package</td><td>Weekend</td></tr><tr><td>CUST025</td><td>Customer25</td><td>Male</td><td>32</td><td>9876518392</td><td>customer25@mail.com</td><td>Gold</td><td>Cash</td><td>5</td><td>Haircut</td><td>Hair</td><td>Haircut</td><td>Afternoon</td></tr><tr><td>CUST026</td><td>Customer26</td><td>Male</td><td>18</td><td>9876519305</td><td>customer26@mail.com</td><td>Yes</td><td>Card</td><td>1</td><td>Pedicure</td><td>Nails</td><td>Pedicure</td><td>Morning</td></tr><tr><td>CUST027</td><td>Customer27</td><td>Male</td><td>50</td><td>9876541195</td><td>customer27@mail.com</td><td>Gold</td><td>Wallet</td><td>2</td><td>Massage</td><td>Spa</td><td>Massage</td><td>Afternoon</td></tr><tr><td>CUST028</td><td>Customer28</td><td>Other</td><td>54</td><td>9876571953</td><td>customer28@mail.com</td><td>No</td><td>Wallet</td><td>4</td><td>Spa Package</td><td>Spa</td><td>Spa Package</td><td>Afternoon</td></tr><tr><td>CUST029</td><td>Customer29</td><td>Male</td><td>60</td><td>9876566498</td><td>customer29@mail.com</td><td>Gold</td><td>Wallet</td><td>4</td><td>Haircut</td><td>Hair</td><td>Haircut</td><td>Weekend</td></tr><tr><td>CUST030</td><td>Customer30</td><td>Male</td><td>59</td><td>9876594696</td><td>customer30@mail.com</td><td>Yes</td><td>Cash</td><td>4</td><td>Spa Package</td><td>Spa</td><td>Spa Package</td><td>Evening</td></tr><tr><td>CUST031</td><td>Customer31</td><td>Male</td><td>30</td><td>9876534931</td><td>customer31@mail.com</td><td>Platinum</td><td>Wallet</td><td>2</td><td>Haircut</td><td>Hair</td><td>Haircut</td><td>Weekend</td></tr><tr><td>CUST032</td><td>Customer32</td><td>Female</td><td>47</td><td>9876542742</td><td>customer32@mail.com</td><td>Yes</td><td>Wallet</td><td>5</td><td>Facial</td><td>Skin</td><td>Facial</td><td>Morning</td></tr><tr><td>CUST033</td><td>Customer33</td><td>Other</td><td>52</td><td>9876511934</td><td>customer33@mail.com</td><td>Yes</td><td>Card</td><td>2</td><td>Haircut</td><td>Hair</td><td>Haircut</td><td>Weekend</td></tr><tr><td>CUST034</td><td>Customer34</td><td>Female</td><td>31</td><td>9876562565</td><td>customer34@mail.com</td><td>Yes</td><td>Card</td><td>4</td><td>Manicure</td><td>Nails</td><td>Manicure</td><td>Morning</td></tr><tr><td>CUST035</td><td>Customer35</td><td>Female</td><td>47</td><td>9876547388</td><td>customer35@mail.com</td><td>Silver</td><td>Wallet</td><td>2</td><td>Manicure</td><td>Nails</td><td>Manicure</td><td>Afternoon</td></tr><tr><td>CUST036</td><td>Customer36</td><td>Male</td><td>21</td><td>9876585914</td><td>customer36@mail.com</td><td>Platinum</td><td>Cash</td><td>3</td><td>Massage</td><td>Spa</td><td>Massage</td><td>Morning</td></tr><tr><td>CUST037</td><td>Customer37</td><td>Other</td><td>48</td><td>9876575909</td><td>customer37@mail.com</td><td>Platinum</td><td>Card</td><td>1</td><td>Haircut</td><td>Hair</td><td>Haircut</td><td>Morning</td></tr><tr><td>CUST038</td><td>Customer38</td><td>Male</td><td>56</td><td>9876518907</td><td>customer38@mail.com</td><td>No</td><td>Wallet</td><td>1</td><td>Facial</td><td>Skin</td><td>Facial</td><td>Afternoon</td></tr><tr><td>CUST039</td><td>Customer39</td><td>Other</td><td>20</td><td>9876591183</td><td>customer39@mail.com</td><td>Yes</td><td>Wallet</td><td>5</td><td>Pedicure</td><td>Nails</td><td>Pedicure</td><td>Evening</td></tr><tr><td>CUST040</td><td>Customer40</td><td>Male</td><td>60</td><td>9876551180</td><td>customer40@mail.com</td><td>No</td><td>UPI</td><td>4</td><td>Massage</td><td>Spa</td><td>Massage</td><td>Afternoon</td></tr><tr><td>CUST041</td><td>Customer41</td><td>Other</td><td>37</td><td>9876569929</td><td>customer41@mail.com</td><td>Gold</td><td>Cash</td><td>1</td><td>Spa Package</td><td>Spa</td><td>Spa Package</td><td>Weekend</td></tr><tr><td>CUST042</td><td>Customer42</td><td>Other</td><td>24</td><td>9876519602</td><td>customer42@mail.com</td><td>Platinum</td><td>Card</td><td>5</td><td>Pedicure</td><td>Nails</td><td>Pedicure</td><td>Evening</td></tr><tr><td>CUST043</td><td>Customer43</td><td>Female</td><td>22</td><td>9876542018</td><td>customer43@mail.com</td><td>Gold</td><td>UPI</td><td>2</td><td>Facial</td><td>Skin</td><td>Facial</td><td>Weekend</td></tr><tr><td>CUST044</td><td>Customer44</td><td>Other</td><td>37</td><td>9876590173</td><td>customer44@mail.com</td><td>Platinum</td><td>Cash</td><td>5</td><td>Pedicure</td><td>Nails</td><td>Pedicure</td><td>Evening</td></tr><tr><td>CUST045</td><td>Customer45</td><td>Male</td><td>26</td><td>9876544664</td><td>customer45@mail.com</td><td>Yes</td><td>Cash</td><td>5</td><td>Spa Package</td><td>Spa</td><td>Spa Package</td><td>Afternoon</td></tr><tr><td>CUST046</td><td>Customer46</td><td>Female</td><td>56</td><td>9876537607</td><td>customer46@mail.com</td><td>Gold</td><td>Card</td><td>3</td><td>Massage</td><td>Spa</td><td>Massage</td><td>Weekend</td></tr><tr><td>CUST047</td><td>Customer47</td><td>Male</td><td>23</td><td>9876593136</td><td>customer47@mail.com</td><td>Silver</td><td>UPI</td><td>1</td><td>Massage</td><td>Spa</td><td>Massage</td><td>Morning</td></tr><tr><td>CUST048</td><td>Customer48</td><td>Male</td><td>58</td><td>9876544335</td><td>customer48@mail.com</td><td>No</td><td>Wallet</td><td>5</td><td>Massage</td><td>Spa</td><td>Massage</td><td>Weekend</td></tr><tr><td>CUST049</td><td>Customer49</td><td>Male</td><td>25</td><td>9876519862</td><td>customer49@mail.com</td><td>No</td><td>Cash</td><td>3</td><td>Pedicure</td><td>Nails</td><td>Pedicure</td><td>Afternoon</td></tr><tr><td>CUST050</td><td>Customer50</td><td>Male</td><td>20</td><td>9876550404</td><td>customer50@mail.com</td><td>Gold</td><td>Cash</td><td>3</td><td>Manicure</td><td>Nails</td><td>Manicure</td><td>Afternoon</td></tr><tr><td>CUST051</td><td>Customer51</td><td>Male</td><td>45</td><td>9876554597</td><td>customer5@mail.com</td><td>Gold</td><td>Card</td><td>2</td><td>Haircut</td><td>Hair</td><td>Haircut</td><td>Evening</td></tr><tr><td>CUST052</td><td>Customer52</td><td>Male</td><td>42</td><td>9876522676</td><td>customer6@mail.com</td><td>Gold</td><td>UPI</td><td>5</td><td>Haircut</td><td>Hair</td><td>Haircut</td><td>Evening</td></tr><tr><td>CUST053</td><td>Customer53</td><td>Other</td><td>47</td><td>9876580284</td><td>customer7@mail.com</td><td>Yes</td><td>Wallet</td><td>1</td><td>Haircut</td><td>Hair</td><td>Haircut</td><td>Evening</td></tr><tr><td>CUST054</td><td>Customer54</td><td>Other</td><td>41</td><td>9876585674</td><td>customer8@mail.com</td><td>No</td><td>Cash</td><td>1</td><td>Spa Package</td><td>Spa</td><td>Spa Package</td><td>Afternoon</td></tr><tr><td>CUST055</td><td>Customer55</td><td>Male</td><td>32</td><td>9876523238</td><td>customer9@mail.com</td><td>Silver</td><td>UPI</td><td>4</td><td>Massage</td><td>Spa</td><td>Massage</td><td>Evening</td></tr><tr><td>CUST056</td><td>Customer56</td><td>Female</td><td>40</td><td>9876537460</td><td>customer10@mail.com</td><td>Gold</td><td>Cash</td><td>5</td><td>Facial</td><td>Skin</td><td>Facial</td><td>Afternoon</td></tr><tr><td>CUST057</td><td>Customer57</td><td>Other</td><td>33</td><td>9876531417</td><td>customer11@mail.com</td><td>Silver</td><td>Wallet</td><td>3</td><td>Pedicure</td><td>Nails</td><td>Pedicure</td><td>Afternoon</td></tr><tr><td>CUST058</td><td>Customer58</td><td>Female</td><td>21</td><td>9876540021</td><td>customer12@mail.com</td><td>Yes</td><td>UPI</td><td>4</td><td>Spa Package</td><td>Spa</td><td>Spa Package</td><td>Evening</td></tr><tr><td>CUST059</td><td>Customer59</td><td>Male</td><td>54</td><td>9876551245</td><td>customer13@mail.com</td><td>No</td><td>Wallet</td><td>4</td><td>Haircut</td><td>Hair</td><td>Haircut</td><td>Weekend</td></tr><tr><td>CUST060</td><td>Customer60</td><td>Female</td><td>26</td><td>9876542325</td><td>customer14@mail.com</td><td>Platinum</td><td>UPI</td><td>5</td><td>Facial</td><td>Skin</td><td>Facial</td><td>Weekend</td></tr><tr><td>CUST061</td><td>Customer61</td><td>Female</td><td>41</td><td>9876538746</td><td>customer15@mail.com</td><td>No</td><td>Wallet</td><td>1</td><td>Pedicure</td><td>Nails</td><td>Pedicure</td><td>Morning</td></tr><tr><td>CUST062</td><td>Customer62</td><td>Male</td><td>58</td><td>9876530969</td><td>customer16@mail.com</td><td>Silver</td><td>Cash</td><td>4</td><td>Haircut</td><td>Hair</td><td>Haircut</td><td>Weekend</td></tr><tr><td>CUST063</td><td>Customer63</td><td>Female</td><td>51</td><td>9876542953</td><td>customer17@mail.com</td><td>Platinum</td><td>Cash</td><td>1</td><td>Pedicure</td><td>Nails</td><td>Pedicure</td><td>Evening</td></tr><tr><td>CUST064</td><td>Customer64</td><td>Female</td><td>25</td><td>9876548469</td><td>customer18@mail.com</td><td>Silver</td><td>Card</td><td>4</td><td>Spa Package</td><td>Spa</td><td>Spa Package</td><td>Morning</td></tr><tr><td>CUST065</td><td>Customer65</td><td>Other</td><td>34</td><td>9876575612</td><td>customer19@mail.com</td><td>No</td><td>Cash</td><td>3</td><td>Spa Package</td><td>Spa</td><td>Spa Package</td><td>Afternoon</td></tr><tr><td>CUST066</td><td>Customer66</td><td>Female</td><td>28</td><td>9876580697</td><td>customer20@mail.com</td><td>Platinum</td><td>Cash</td><td>5</td><td>Facial</td><td>Skin</td><td>Facial</td><td>Evening</td></tr><tr><td>CUST067</td><td>Customer67</td><td>Male</td><td>25</td><td>9876557576</td><td>customer21@mail.com</td><td>Gold</td><td>Card</td><td>1</td><td>Manicure</td><td>Nails</td><td>Manicure</td><td>Afternoon</td></tr><tr><td>CUST068</td><td>Customer68</td><td>Male</td><td>23</td><td>9876573699</td><td>customer22@mail.com</td><td>Yes</td><td>Card</td><td>2</td><td>Pedicure</td><td>Nails</td><td>Pedicure</td><td>Weekend</td></tr><tr><td>CUST069</td><td>Customer69</td><td>Male</td><td>34</td><td>9876579163</td><td>customer23@mail.com</td><td>Platinum</td><td>Wallet</td><td>2</td><td>Pedicure</td><td>Nails</td><td>Pedicure</td><td>Afternoon</td></tr><tr><td>CUST070</td><td>Customer70</td><td>Female</td><td>43</td><td>9876598039</td><td>customer24@mail.com</td><td>Gold</td><td>Wallet</td><td>5</td><td>Spa Package</td><td>Spa</td><td>Spa Package</td><td>Weekend</td></tr><tr><td>CUST071</td><td>Customer71</td><td>Male</td><td>32</td><td>9876518392</td><td>customer25@mail.com</td><td>Gold</td><td>Cash</td><td>5</td><td>Haircut</td><td>Hair</td><td>Haircut</td><td>Afternoon</td></tr><tr><td>CUST072</td><td>Customer72</td><td>Male</td><td>18</td><td>9876519305</td><td>customer26@mail.com</td><td>Yes</td><td>Card</td><td>1</td><td>Pedicure</td><td>Nails</td><td>Pedicure</td><td>Morning</td></tr><tr><td>CUST073</td><td>Customer73</td><td>Male</td><td>50</td><td>9876541195</td><td>customer27@mail.com</td><td>Gold</td><td>Wallet</td><td>2</td><td>Massage</td><td>Spa</td><td>Massage</td><td>Afternoon</td></tr><tr><td>CUST074</td><td>Customer74</td><td>Other</td><td>54</td><td>9876571953</td><td>customer28@mail.com</td><td>No</td><td>Wallet</td><td>4</td><td>Spa Package</td><td>Spa</td><td>Spa Package</td><td>Afternoon</td></tr><tr><td>CUST075</td><td>Customer75</td><td>Male</td><td>60</td><td>9876566498</td><td>customer29@mail.com</td><td>Gold</td><td>Wallet</td><td>4</td><td>Haircut</td><td>Hair</td><td>Haircut</td><td>Weekend</td></tr><tr><td>CUST076</td><td>Customer76</td><td>Male</td><td>59</td><td>9876594696</td><td>customer30@mail.com</td><td>Yes</td><td>Cash</td><td>4</td><td>Spa Package</td><td>Spa</td><td>Spa Package</td><td>Evening</td></tr><tr><td>CUST077</td><td>Customer77</td><td>Male</td><td>30</td><td>9876534931</td><td>customer31@mail.com</td><td>Platinum</td><td>Wallet</td><td>2</td><td>Haircut</td><td>Hair</td><td>Haircut</td><td>Weekend</td></tr><tr><td>CUST078</td><td>Customer78</td><td>Female</td><td>47</td><td>9876542742</td><td>customer32@mail.com</td><td>Yes</td><td>Wallet</td><td>5</td><td>Facial</td><td>Skin</td><td>Facial</td><td>Morning</td></tr><tr><td>CUST079</td><td>Customer79</td><td>Other</td><td>52</td><td>9876511934</td><td>customer33@mail.com</td><td>Yes</td><td>Card</td><td>2</td><td>Haircut</td><td>Hair</td><td>Haircut</td><td>Weekend</td></tr><tr><td>CUST080</td><td>Customer80</td><td>Male</td><td>45</td><td>9876554597</td><td>customer5@mail.com</td><td>Gold</td><td>Card</td><td>2</td><td>Haircut</td><td>Hair</td><td>Haircut</td><td>Evening</td></tr><tr><td>CUST081</td><td>Customer81</td><td>Male</td><td>42</td><td>9876522676</td><td>customer6@mail.com</td><td>Gold</td><td>UPI</td><td>5</td><td>Haircut</td><td>Hair</td><td>Haircut</td><td>Evening</td></tr><tr><td>CUST082</td><td>Customer82</td><td>Other</td><td>47</td><td>9876580284</td><td>customer7@mail.com</td><td>Yes</td><td>Wallet</td><td>1</td><td>Haircut</td><td>Hair</td><td>Haircut</td><td>Evening</td></tr><tr><td>CUST083</td><td>Customer83</td><td>Other</td><td>41</td><td>9876585674</td><td>customer8@mail.com</td><td>No</td><td>Cash</td><td>1</td><td>Spa Package</td><td>Spa</td><td>Spa Package</td><td>Afternoon</td></tr><tr><td>CUST084</td><td>Customer84</td><td>Male</td><td>32</td><td>9876523238</td><td>customer9@mail.com</td><td>Silver</td><td>UPI</td><td>4</td><td>Massage</td><td>Spa</td><td>Massage</td><td>Evening</td></tr><tr><td>CUST085</td><td>Customer85</td><td>Female</td><td>40</td><td>9876537460</td><td>customer10@mail.com</td><td>Gold</td><td>Cash</td><td>5</td><td>Facial</td><td>Skin</td><td>Facial</td><td>Afternoon</td></tr><tr><td>CUST086</td><td>Customer86</td><td>Other</td><td>33</td><td>9876531417</td><td>customer11@mail.com</td><td>Silver</td><td>Wallet</td><td>3</td><td>Pedicure</td><td>Nails</td><td>Pedicure</td><td>Afternoon</td></tr><tr><td>CUST087</td><td>Customer87</td><td>Female</td><td>21</td><td>9876540021</td><td>customer12@mail.com</td><td>Yes</td><td>UPI</td><td>4</td><td>Spa Package</td><td>Spa</td><td>Spa Package</td><td>Evening</td></tr><tr><td>CUST088</td><td>Customer88</td><td>Male</td><td>54</td><td>9876551245</td><td>customer13@mail.com</td><td>No</td><td>Wallet</td><td>4</td><td>Haircut</td><td>Hair</td><td>Haircut</td><td>Weekend</td></tr><tr><td>CUST089</td><td>Customer89</td><td>Female</td><td>26</td><td>9876542325</td><td>customer14@mail.com</td><td>Platinum</td><td>UPI</td><td>5</td><td>Facial</td><td>Skin</td><td>Facial</td><td>Weekend</td></tr><tr><td>CUST090</td><td>Customer90</td><td>Female</td><td>41</td><td>9876538746</td><td>customer15@mail.com</td><td>No</td><td>Wallet</td><td>1</td><td>Pedicure</td><td>Nails</td><td>Pedicure</td><td>Morning</td></tr><tr><td>CUST091</td><td>Customer91</td><td>Male</td><td>58</td><td>9876530969</td><td>customer16@mail.com</td><td>Silver</td><td>Cash</td><td>4</td><td>Haircut</td><td>Hair</td><td>Haircut</td><td>Weekend</td></tr><tr><td>CUST092</td><td>Customer92</td><td>Female</td><td>51</td><td>9876542953</td><td>customer17@mail.com</td><td>Platinum</td><td>Cash</td><td>1</td><td>Pedicure</td><td>Nails</td><td>Pedicure</td><td>Evening</td></tr><tr><td>CUST093</td><td>Customer93</td><td>Female</td><td>25</td><td>9876548469</td><td>customer18@mail.com</td><td>Silver</td><td>Card</td><td>4</td><td>Spa Package</td><td>Spa</td><td>Spa Package</td><td>Morning</td></tr><tr><td>CUST094</td><td>Customer94</td><td>Other</td><td>34</td><td>9876575612</td><td>customer19@mail.com</td><td>No</td><td>Cash</td><td>3</td><td>Spa Package</td><td>Spa</td><td>Spa Package</td><td>Afternoon</td></tr><tr><td>CUST095</td><td>Customer95</td><td>Female</td><td>28</td><td>9876580697</td><td>customer20@mail.com</td><td>Platinum</td><td>Cash</td><td>5</td><td>Facial</td><td>Skin</td><td>Facial</td><td>Evening</td></tr><tr><td>CUST096</td><td>Customer96</td><td>Male</td><td>25</td><td>9876557576</td><td>customer21@mail.com</td><td>Gold</td><td>Card</td><td>1</td><td>Manicure</td><td>Nails</td><td>Manicure</td><td>Afternoon</td></tr><tr><td>CUST097</td><td>Customer97</td><td>Male</td><td>23</td><td>9876573699</td><td>customer22@mail.com</td><td>Yes</td><td>Card</td><td>2</td><td>Pedicure</td><td>Nails</td><td>Pedicure</td><td>Weekend</td></tr><tr><td>CUST098</td><td>Customer98</td><td>Male</td><td>34</td><td>9876579163</td><td>customer23@mail.com</td><td>Platinum</td><td>Wallet</td><td>2</td><td>Pedicure</td><td>Nails</td><td>Pedicure</td><td>Afternoon</td></tr><tr><td>CUST099</td><td>Customer99</td><td>Female</td><td>43</td><td>9876598039</td><td>customer24@mail.com</td><td>Gold</td><td>Wallet</td><td>5</td><td>Spa Package</td><td>Spa</td><td>Spa Package</td><td>Weekend</td></tr><tr><td>CUST100</td><td>Customer100</td><td>Male</td><td>32</td><td>9876518392</td><td>customer25@mail.com</td><td>Gold</td><td>Cash</td><td>5</td><td>Haircut</td><td>Hair</td><td>Haircut</td><td>Afternoon</td></tr></tbody></table></div>"
      ]
     },
     "metadata": {
      "application/vnd.databricks.v1+output": {
       "addedWidgets": {},
       "aggData": [],
       "aggError": "",
       "aggOverflow": false,
       "aggSchema": [],
       "aggSeriesLimitReached": false,
       "aggType": "",
       "arguments": {},
       "columnCustomDisplayInfos": {},
       "data": [
        [
         "CUST001",
         "Customer1",
         "Male",
         19,
         9876546048,
         "customer1@mail.com",
         "No",
         "Card",
         2,
         "Spa Package",
         "Spa",
         "Spa Package",
         "Morning"
        ],
        [
         "CUST002",
         "Customer2",
         "Other",
         52,
         9876521395,
         "customer2@mail.com",
         "Platinum",
         "Wallet",
         1,
         "Spa Package",
         "Spa",
         "Spa Package",
         "Morning"
        ],
        [
         "CUST003",
         "Customer3",
         "Male",
         32,
         9876576237,
         "customer3@mail.com",
         "Platinum",
         "Cash",
         5,
         "Haircut",
         "Hair",
         "Haircut",
         "Afternoon"
        ],
        [
         "CUST004",
         "Customer4",
         "Other",
         52,
         9876564987,
         "customer4@mail.com",
         "No",
         "Wallet",
         5,
         "Spa Package",
         "Spa",
         "Spa Package",
         "Evening"
        ],
        [
         "CUST005",
         "Customer5",
         "Male",
         45,
         9876554597,
         "customer5@mail.com",
         "Gold",
         "Card",
         2,
         "Haircut",
         "Hair",
         "Haircut",
         "Evening"
        ],
        [
         "CUST006",
         "Customer6",
         "Male",
         42,
         9876522676,
         "customer6@mail.com",
         "Gold",
         "UPI",
         5,
         "Haircut",
         "Hair",
         "Haircut",
         "Evening"
        ],
        [
         "CUST007",
         "Customer7",
         "Other",
         47,
         9876580284,
         "customer7@mail.com",
         "Yes",
         "Wallet",
         1,
         "Haircut",
         "Hair",
         "Haircut",
         "Evening"
        ],
        [
         "CUST008",
         "Customer8",
         "Other",
         41,
         9876585674,
         "customer8@mail.com",
         "No",
         "Cash",
         1,
         "Spa Package",
         "Spa",
         "Spa Package",
         "Afternoon"
        ],
        [
         "CUST009",
         "Customer9",
         "Male",
         32,
         9876523238,
         "customer9@mail.com",
         "Silver",
         "UPI",
         4,
         "Massage",
         "Spa",
         "Massage",
         "Evening"
        ],
        [
         "CUST010",
         "Customer10",
         "Female",
         40,
         9876537460,
         "customer10@mail.com",
         "Gold",
         "Cash",
         5,
         "Facial",
         "Skin",
         "Facial",
         "Afternoon"
        ],
        [
         "CUST011",
         "Customer11",
         "Other",
         33,
         9876531417,
         "customer11@mail.com",
         "Silver",
         "Wallet",
         3,
         "Pedicure",
         "Nails",
         "Pedicure",
         "Afternoon"
        ],
        [
         "CUST012",
         "Customer12",
         "Female",
         21,
         9876540021,
         "customer12@mail.com",
         "Yes",
         "UPI",
         4,
         "Spa Package",
         "Spa",
         "Spa Package",
         "Evening"
        ],
        [
         "CUST013",
         "Customer13",
         "Male",
         54,
         9876551245,
         "customer13@mail.com",
         "No",
         "Wallet",
         4,
         "Haircut",
         "Hair",
         "Haircut",
         "Weekend"
        ],
        [
         "CUST014",
         "Customer14",
         "Female",
         26,
         9876542325,
         "customer14@mail.com",
         "Platinum",
         "UPI",
         5,
         "Facial",
         "Skin",
         "Facial",
         "Weekend"
        ],
        [
         "CUST015",
         "Customer15",
         "Female",
         41,
         9876538746,
         "customer15@mail.com",
         "No",
         "Wallet",
         1,
         "Pedicure",
         "Nails",
         "Pedicure",
         "Morning"
        ],
        [
         "CUST016",
         "Customer16",
         "Male",
         58,
         9876530969,
         "customer16@mail.com",
         "Silver",
         "Cash",
         4,
         "Haircut",
         "Hair",
         "Haircut",
         "Weekend"
        ],
        [
         "CUST017",
         "Customer17",
         "Female",
         51,
         9876542953,
         "customer17@mail.com",
         "Platinum",
         "Cash",
         1,
         "Pedicure",
         "Nails",
         "Pedicure",
         "Evening"
        ],
        [
         "CUST018",
         "Customer18",
         "Female",
         25,
         9876548469,
         "customer18@mail.com",
         "Silver",
         "Card",
         4,
         "Spa Package",
         "Spa",
         "Spa Package",
         "Morning"
        ],
        [
         "CUST019",
         "Customer19",
         "Other",
         34,
         9876575612,
         "customer19@mail.com",
         "No",
         "Cash",
         3,
         "Spa Package",
         "Spa",
         "Spa Package",
         "Afternoon"
        ],
        [
         "CUST020",
         "Customer20",
         "Female",
         28,
         9876580697,
         "customer20@mail.com",
         "Platinum",
         "Cash",
         5,
         "Facial",
         "Skin",
         "Facial",
         "Evening"
        ],
        [
         "CUST021",
         "Customer21",
         "Male",
         25,
         9876557576,
         "customer21@mail.com",
         "Gold",
         "Card",
         1,
         "Manicure",
         "Nails",
         "Manicure",
         "Afternoon"
        ],
        [
         "CUST022",
         "Customer22",
         "Male",
         23,
         9876573699,
         "customer22@mail.com",
         "Yes",
         "Card",
         2,
         "Pedicure",
         "Nails",
         "Pedicure",
         "Weekend"
        ],
        [
         "CUST023",
         "Customer23",
         "Male",
         34,
         9876579163,
         "customer23@mail.com",
         "Platinum",
         "Wallet",
         2,
         "Pedicure",
         "Nails",
         "Pedicure",
         "Afternoon"
        ],
        [
         "CUST024",
         "Customer24",
         "Female",
         43,
         9876598039,
         "customer24@mail.com",
         "Gold",
         "Wallet",
         5,
         "Spa Package",
         "Spa",
         "Spa Package",
         "Weekend"
        ],
        [
         "CUST025",
         "Customer25",
         "Male",
         32,
         9876518392,
         "customer25@mail.com",
         "Gold",
         "Cash",
         5,
         "Haircut",
         "Hair",
         "Haircut",
         "Afternoon"
        ],
        [
         "CUST026",
         "Customer26",
         "Male",
         18,
         9876519305,
         "customer26@mail.com",
         "Yes",
         "Card",
         1,
         "Pedicure",
         "Nails",
         "Pedicure",
         "Morning"
        ],
        [
         "CUST027",
         "Customer27",
         "Male",
         50,
         9876541195,
         "customer27@mail.com",
         "Gold",
         "Wallet",
         2,
         "Massage",
         "Spa",
         "Massage",
         "Afternoon"
        ],
        [
         "CUST028",
         "Customer28",
         "Other",
         54,
         9876571953,
         "customer28@mail.com",
         "No",
         "Wallet",
         4,
         "Spa Package",
         "Spa",
         "Spa Package",
         "Afternoon"
        ],
        [
         "CUST029",
         "Customer29",
         "Male",
         60,
         9876566498,
         "customer29@mail.com",
         "Gold",
         "Wallet",
         4,
         "Haircut",
         "Hair",
         "Haircut",
         "Weekend"
        ],
        [
         "CUST030",
         "Customer30",
         "Male",
         59,
         9876594696,
         "customer30@mail.com",
         "Yes",
         "Cash",
         4,
         "Spa Package",
         "Spa",
         "Spa Package",
         "Evening"
        ],
        [
         "CUST031",
         "Customer31",
         "Male",
         30,
         9876534931,
         "customer31@mail.com",
         "Platinum",
         "Wallet",
         2,
         "Haircut",
         "Hair",
         "Haircut",
         "Weekend"
        ],
        [
         "CUST032",
         "Customer32",
         "Female",
         47,
         9876542742,
         "customer32@mail.com",
         "Yes",
         "Wallet",
         5,
         "Facial",
         "Skin",
         "Facial",
         "Morning"
        ],
        [
         "CUST033",
         "Customer33",
         "Other",
         52,
         9876511934,
         "customer33@mail.com",
         "Yes",
         "Card",
         2,
         "Haircut",
         "Hair",
         "Haircut",
         "Weekend"
        ],
        [
         "CUST034",
         "Customer34",
         "Female",
         31,
         9876562565,
         "customer34@mail.com",
         "Yes",
         "Card",
         4,
         "Manicure",
         "Nails",
         "Manicure",
         "Morning"
        ],
        [
         "CUST035",
         "Customer35",
         "Female",
         47,
         9876547388,
         "customer35@mail.com",
         "Silver",
         "Wallet",
         2,
         "Manicure",
         "Nails",
         "Manicure",
         "Afternoon"
        ],
        [
         "CUST036",
         "Customer36",
         "Male",
         21,
         9876585914,
         "customer36@mail.com",
         "Platinum",
         "Cash",
         3,
         "Massage",
         "Spa",
         "Massage",
         "Morning"
        ],
        [
         "CUST037",
         "Customer37",
         "Other",
         48,
         9876575909,
         "customer37@mail.com",
         "Platinum",
         "Card",
         1,
         "Haircut",
         "Hair",
         "Haircut",
         "Morning"
        ],
        [
         "CUST038",
         "Customer38",
         "Male",
         56,
         9876518907,
         "customer38@mail.com",
         "No",
         "Wallet",
         1,
         "Facial",
         "Skin",
         "Facial",
         "Afternoon"
        ],
        [
         "CUST039",
         "Customer39",
         "Other",
         20,
         9876591183,
         "customer39@mail.com",
         "Yes",
         "Wallet",
         5,
         "Pedicure",
         "Nails",
         "Pedicure",
         "Evening"
        ],
        [
         "CUST040",
         "Customer40",
         "Male",
         60,
         9876551180,
         "customer40@mail.com",
         "No",
         "UPI",
         4,
         "Massage",
         "Spa",
         "Massage",
         "Afternoon"
        ],
        [
         "CUST041",
         "Customer41",
         "Other",
         37,
         9876569929,
         "customer41@mail.com",
         "Gold",
         "Cash",
         1,
         "Spa Package",
         "Spa",
         "Spa Package",
         "Weekend"
        ],
        [
         "CUST042",
         "Customer42",
         "Other",
         24,
         9876519602,
         "customer42@mail.com",
         "Platinum",
         "Card",
         5,
         "Pedicure",
         "Nails",
         "Pedicure",
         "Evening"
        ],
        [
         "CUST043",
         "Customer43",
         "Female",
         22,
         9876542018,
         "customer43@mail.com",
         "Gold",
         "UPI",
         2,
         "Facial",
         "Skin",
         "Facial",
         "Weekend"
        ],
        [
         "CUST044",
         "Customer44",
         "Other",
         37,
         9876590173,
         "customer44@mail.com",
         "Platinum",
         "Cash",
         5,
         "Pedicure",
         "Nails",
         "Pedicure",
         "Evening"
        ],
        [
         "CUST045",
         "Customer45",
         "Male",
         26,
         9876544664,
         "customer45@mail.com",
         "Yes",
         "Cash",
         5,
         "Spa Package",
         "Spa",
         "Spa Package",
         "Afternoon"
        ],
        [
         "CUST046",
         "Customer46",
         "Female",
         56,
         9876537607,
         "customer46@mail.com",
         "Gold",
         "Card",
         3,
         "Massage",
         "Spa",
         "Massage",
         "Weekend"
        ],
        [
         "CUST047",
         "Customer47",
         "Male",
         23,
         9876593136,
         "customer47@mail.com",
         "Silver",
         "UPI",
         1,
         "Massage",
         "Spa",
         "Massage",
         "Morning"
        ],
        [
         "CUST048",
         "Customer48",
         "Male",
         58,
         9876544335,
         "customer48@mail.com",
         "No",
         "Wallet",
         5,
         "Massage",
         "Spa",
         "Massage",
         "Weekend"
        ],
        [
         "CUST049",
         "Customer49",
         "Male",
         25,
         9876519862,
         "customer49@mail.com",
         "No",
         "Cash",
         3,
         "Pedicure",
         "Nails",
         "Pedicure",
         "Afternoon"
        ],
        [
         "CUST050",
         "Customer50",
         "Male",
         20,
         9876550404,
         "customer50@mail.com",
         "Gold",
         "Cash",
         3,
         "Manicure",
         "Nails",
         "Manicure",
         "Afternoon"
        ],
        [
         "CUST051",
         "Customer51",
         "Male",
         45,
         9876554597,
         "customer5@mail.com",
         "Gold",
         "Card",
         2,
         "Haircut",
         "Hair",
         "Haircut",
         "Evening"
        ],
        [
         "CUST052",
         "Customer52",
         "Male",
         42,
         9876522676,
         "customer6@mail.com",
         "Gold",
         "UPI",
         5,
         "Haircut",
         "Hair",
         "Haircut",
         "Evening"
        ],
        [
         "CUST053",
         "Customer53",
         "Other",
         47,
         9876580284,
         "customer7@mail.com",
         "Yes",
         "Wallet",
         1,
         "Haircut",
         "Hair",
         "Haircut",
         "Evening"
        ],
        [
         "CUST054",
         "Customer54",
         "Other",
         41,
         9876585674,
         "customer8@mail.com",
         "No",
         "Cash",
         1,
         "Spa Package",
         "Spa",
         "Spa Package",
         "Afternoon"
        ],
        [
         "CUST055",
         "Customer55",
         "Male",
         32,
         9876523238,
         "customer9@mail.com",
         "Silver",
         "UPI",
         4,
         "Massage",
         "Spa",
         "Massage",
         "Evening"
        ],
        [
         "CUST056",
         "Customer56",
         "Female",
         40,
         9876537460,
         "customer10@mail.com",
         "Gold",
         "Cash",
         5,
         "Facial",
         "Skin",
         "Facial",
         "Afternoon"
        ],
        [
         "CUST057",
         "Customer57",
         "Other",
         33,
         9876531417,
         "customer11@mail.com",
         "Silver",
         "Wallet",
         3,
         "Pedicure",
         "Nails",
         "Pedicure",
         "Afternoon"
        ],
        [
         "CUST058",
         "Customer58",
         "Female",
         21,
         9876540021,
         "customer12@mail.com",
         "Yes",
         "UPI",
         4,
         "Spa Package",
         "Spa",
         "Spa Package",
         "Evening"
        ],
        [
         "CUST059",
         "Customer59",
         "Male",
         54,
         9876551245,
         "customer13@mail.com",
         "No",
         "Wallet",
         4,
         "Haircut",
         "Hair",
         "Haircut",
         "Weekend"
        ],
        [
         "CUST060",
         "Customer60",
         "Female",
         26,
         9876542325,
         "customer14@mail.com",
         "Platinum",
         "UPI",
         5,
         "Facial",
         "Skin",
         "Facial",
         "Weekend"
        ],
        [
         "CUST061",
         "Customer61",
         "Female",
         41,
         9876538746,
         "customer15@mail.com",
         "No",
         "Wallet",
         1,
         "Pedicure",
         "Nails",
         "Pedicure",
         "Morning"
        ],
        [
         "CUST062",
         "Customer62",
         "Male",
         58,
         9876530969,
         "customer16@mail.com",
         "Silver",
         "Cash",
         4,
         "Haircut",
         "Hair",
         "Haircut",
         "Weekend"
        ],
        [
         "CUST063",
         "Customer63",
         "Female",
         51,
         9876542953,
         "customer17@mail.com",
         "Platinum",
         "Cash",
         1,
         "Pedicure",
         "Nails",
         "Pedicure",
         "Evening"
        ],
        [
         "CUST064",
         "Customer64",
         "Female",
         25,
         9876548469,
         "customer18@mail.com",
         "Silver",
         "Card",
         4,
         "Spa Package",
         "Spa",
         "Spa Package",
         "Morning"
        ],
        [
         "CUST065",
         "Customer65",
         "Other",
         34,
         9876575612,
         "customer19@mail.com",
         "No",
         "Cash",
         3,
         "Spa Package",
         "Spa",
         "Spa Package",
         "Afternoon"
        ],
        [
         "CUST066",
         "Customer66",
         "Female",
         28,
         9876580697,
         "customer20@mail.com",
         "Platinum",
         "Cash",
         5,
         "Facial",
         "Skin",
         "Facial",
         "Evening"
        ],
        [
         "CUST067",
         "Customer67",
         "Male",
         25,
         9876557576,
         "customer21@mail.com",
         "Gold",
         "Card",
         1,
         "Manicure",
         "Nails",
         "Manicure",
         "Afternoon"
        ],
        [
         "CUST068",
         "Customer68",
         "Male",
         23,
         9876573699,
         "customer22@mail.com",
         "Yes",
         "Card",
         2,
         "Pedicure",
         "Nails",
         "Pedicure",
         "Weekend"
        ],
        [
         "CUST069",
         "Customer69",
         "Male",
         34,
         9876579163,
         "customer23@mail.com",
         "Platinum",
         "Wallet",
         2,
         "Pedicure",
         "Nails",
         "Pedicure",
         "Afternoon"
        ],
        [
         "CUST070",
         "Customer70",
         "Female",
         43,
         9876598039,
         "customer24@mail.com",
         "Gold",
         "Wallet",
         5,
         "Spa Package",
         "Spa",
         "Spa Package",
         "Weekend"
        ],
        [
         "CUST071",
         "Customer71",
         "Male",
         32,
         9876518392,
         "customer25@mail.com",
         "Gold",
         "Cash",
         5,
         "Haircut",
         "Hair",
         "Haircut",
         "Afternoon"
        ],
        [
         "CUST072",
         "Customer72",
         "Male",
         18,
         9876519305,
         "customer26@mail.com",
         "Yes",
         "Card",
         1,
         "Pedicure",
         "Nails",
         "Pedicure",
         "Morning"
        ],
        [
         "CUST073",
         "Customer73",
         "Male",
         50,
         9876541195,
         "customer27@mail.com",
         "Gold",
         "Wallet",
         2,
         "Massage",
         "Spa",
         "Massage",
         "Afternoon"
        ],
        [
         "CUST074",
         "Customer74",
         "Other",
         54,
         9876571953,
         "customer28@mail.com",
         "No",
         "Wallet",
         4,
         "Spa Package",
         "Spa",
         "Spa Package",
         "Afternoon"
        ],
        [
         "CUST075",
         "Customer75",
         "Male",
         60,
         9876566498,
         "customer29@mail.com",
         "Gold",
         "Wallet",
         4,
         "Haircut",
         "Hair",
         "Haircut",
         "Weekend"
        ],
        [
         "CUST076",
         "Customer76",
         "Male",
         59,
         9876594696,
         "customer30@mail.com",
         "Yes",
         "Cash",
         4,
         "Spa Package",
         "Spa",
         "Spa Package",
         "Evening"
        ],
        [
         "CUST077",
         "Customer77",
         "Male",
         30,
         9876534931,
         "customer31@mail.com",
         "Platinum",
         "Wallet",
         2,
         "Haircut",
         "Hair",
         "Haircut",
         "Weekend"
        ],
        [
         "CUST078",
         "Customer78",
         "Female",
         47,
         9876542742,
         "customer32@mail.com",
         "Yes",
         "Wallet",
         5,
         "Facial",
         "Skin",
         "Facial",
         "Morning"
        ],
        [
         "CUST079",
         "Customer79",
         "Other",
         52,
         9876511934,
         "customer33@mail.com",
         "Yes",
         "Card",
         2,
         "Haircut",
         "Hair",
         "Haircut",
         "Weekend"
        ],
        [
         "CUST080",
         "Customer80",
         "Male",
         45,
         9876554597,
         "customer5@mail.com",
         "Gold",
         "Card",
         2,
         "Haircut",
         "Hair",
         "Haircut",
         "Evening"
        ],
        [
         "CUST081",
         "Customer81",
         "Male",
         42,
         9876522676,
         "customer6@mail.com",
         "Gold",
         "UPI",
         5,
         "Haircut",
         "Hair",
         "Haircut",
         "Evening"
        ],
        [
         "CUST082",
         "Customer82",
         "Other",
         47,
         9876580284,
         "customer7@mail.com",
         "Yes",
         "Wallet",
         1,
         "Haircut",
         "Hair",
         "Haircut",
         "Evening"
        ],
        [
         "CUST083",
         "Customer83",
         "Other",
         41,
         9876585674,
         "customer8@mail.com",
         "No",
         "Cash",
         1,
         "Spa Package",
         "Spa",
         "Spa Package",
         "Afternoon"
        ],
        [
         "CUST084",
         "Customer84",
         "Male",
         32,
         9876523238,
         "customer9@mail.com",
         "Silver",
         "UPI",
         4,
         "Massage",
         "Spa",
         "Massage",
         "Evening"
        ],
        [
         "CUST085",
         "Customer85",
         "Female",
         40,
         9876537460,
         "customer10@mail.com",
         "Gold",
         "Cash",
         5,
         "Facial",
         "Skin",
         "Facial",
         "Afternoon"
        ],
        [
         "CUST086",
         "Customer86",
         "Other",
         33,
         9876531417,
         "customer11@mail.com",
         "Silver",
         "Wallet",
         3,
         "Pedicure",
         "Nails",
         "Pedicure",
         "Afternoon"
        ],
        [
         "CUST087",
         "Customer87",
         "Female",
         21,
         9876540021,
         "customer12@mail.com",
         "Yes",
         "UPI",
         4,
         "Spa Package",
         "Spa",
         "Spa Package",
         "Evening"
        ],
        [
         "CUST088",
         "Customer88",
         "Male",
         54,
         9876551245,
         "customer13@mail.com",
         "No",
         "Wallet",
         4,
         "Haircut",
         "Hair",
         "Haircut",
         "Weekend"
        ],
        [
         "CUST089",
         "Customer89",
         "Female",
         26,
         9876542325,
         "customer14@mail.com",
         "Platinum",
         "UPI",
         5,
         "Facial",
         "Skin",
         "Facial",
         "Weekend"
        ],
        [
         "CUST090",
         "Customer90",
         "Female",
         41,
         9876538746,
         "customer15@mail.com",
         "No",
         "Wallet",
         1,
         "Pedicure",
         "Nails",
         "Pedicure",
         "Morning"
        ],
        [
         "CUST091",
         "Customer91",
         "Male",
         58,
         9876530969,
         "customer16@mail.com",
         "Silver",
         "Cash",
         4,
         "Haircut",
         "Hair",
         "Haircut",
         "Weekend"
        ],
        [
         "CUST092",
         "Customer92",
         "Female",
         51,
         9876542953,
         "customer17@mail.com",
         "Platinum",
         "Cash",
         1,
         "Pedicure",
         "Nails",
         "Pedicure",
         "Evening"
        ],
        [
         "CUST093",
         "Customer93",
         "Female",
         25,
         9876548469,
         "customer18@mail.com",
         "Silver",
         "Card",
         4,
         "Spa Package",
         "Spa",
         "Spa Package",
         "Morning"
        ],
        [
         "CUST094",
         "Customer94",
         "Other",
         34,
         9876575612,
         "customer19@mail.com",
         "No",
         "Cash",
         3,
         "Spa Package",
         "Spa",
         "Spa Package",
         "Afternoon"
        ],
        [
         "CUST095",
         "Customer95",
         "Female",
         28,
         9876580697,
         "customer20@mail.com",
         "Platinum",
         "Cash",
         5,
         "Facial",
         "Skin",
         "Facial",
         "Evening"
        ],
        [
         "CUST096",
         "Customer96",
         "Male",
         25,
         9876557576,
         "customer21@mail.com",
         "Gold",
         "Card",
         1,
         "Manicure",
         "Nails",
         "Manicure",
         "Afternoon"
        ],
        [
         "CUST097",
         "Customer97",
         "Male",
         23,
         9876573699,
         "customer22@mail.com",
         "Yes",
         "Card",
         2,
         "Pedicure",
         "Nails",
         "Pedicure",
         "Weekend"
        ],
        [
         "CUST098",
         "Customer98",
         "Male",
         34,
         9876579163,
         "customer23@mail.com",
         "Platinum",
         "Wallet",
         2,
         "Pedicure",
         "Nails",
         "Pedicure",
         "Afternoon"
        ],
        [
         "CUST099",
         "Customer99",
         "Female",
         43,
         9876598039,
         "customer24@mail.com",
         "Gold",
         "Wallet",
         5,
         "Spa Package",
         "Spa",
         "Spa Package",
         "Weekend"
        ],
        [
         "CUST100",
         "Customer100",
         "Male",
         32,
         9876518392,
         "customer25@mail.com",
         "Gold",
         "Cash",
         5,
         "Haircut",
         "Hair",
         "Haircut",
         "Afternoon"
        ]
       ],
       "datasetInfos": [
        {
         "name": "_sqldf",
         "schema": {
          "fields": [
           {
            "metadata": {},
            "name": "Customer ID",
            "nullable": true,
            "type": "string"
           },
           {
            "metadata": {},
            "name": "Customer Name",
            "nullable": true,
            "type": "string"
           },
           {
            "metadata": {},
            "name": "Gender",
            "nullable": true,
            "type": "string"
           },
           {
            "metadata": {},
            "name": "Age",
            "nullable": true,
            "type": "long"
           },
           {
            "metadata": {},
            "name": "Contact Number",
            "nullable": true,
            "type": "long"
           },
           {
            "metadata": {},
            "name": "Email",
            "nullable": true,
            "type": "string"
           },
           {
            "metadata": {},
            "name": "Membership Status",
            "nullable": true,
            "type": "string"
           },
           {
            "metadata": {},
            "name": "Payment Mode",
            "nullable": true,
            "type": "string"
           },
           {
            "metadata": {},
            "name": "Customer Feedback/Rating",
            "nullable": true,
            "type": "long"
           },
           {
            "metadata": {},
            "name": "Popular Service",
            "nullable": true,
            "type": "string"
           },
           {
            "metadata": {},
            "name": "Category",
            "nullable": true,
            "type": "string"
           },
           {
            "metadata": {},
            "name": "Service Type",
            "nullable": true,
            "type": "string"
           },
           {
            "metadata": {},
            "name": "Peak Time",
            "nullable": true,
            "type": "string"
           }
          ],
          "type": "struct"
         },
         "tableIdentifier": null,
         "typeStr": "pyspark.sql.connect.dataframe.DataFrame"
        }
       ],
       "dbfsResultPath": null,
       "isJsonSchema": true,
       "metadata": {
        "createTempViewForImplicitDf": true,
        "dataframeName": "_sqldf",
        "executionCount": 2
       },
       "overflow": false,
       "plotOptions": {
        "customPlotOptions": {},
        "displayType": "table",
        "pivotAggregation": null,
        "pivotColumns": null,
        "xColumns": null,
        "yColumns": null
       },
       "removedWidgets": [],
       "schema": [
        {
         "metadata": "{}",
         "name": "Customer ID",
         "type": "\"string\""
        },
        {
         "metadata": "{}",
         "name": "Customer Name",
         "type": "\"string\""
        },
        {
         "metadata": "{}",
         "name": "Gender",
         "type": "\"string\""
        },
        {
         "metadata": "{}",
         "name": "Age",
         "type": "\"long\""
        },
        {
         "metadata": "{}",
         "name": "Contact Number",
         "type": "\"long\""
        },
        {
         "metadata": "{}",
         "name": "Email",
         "type": "\"string\""
        },
        {
         "metadata": "{}",
         "name": "Membership Status",
         "type": "\"string\""
        },
        {
         "metadata": "{}",
         "name": "Payment Mode",
         "type": "\"string\""
        },
        {
         "metadata": "{}",
         "name": "Customer Feedback/Rating",
         "type": "\"long\""
        },
        {
         "metadata": "{}",
         "name": "Popular Service",
         "type": "\"string\""
        },
        {
         "metadata": "{}",
         "name": "Category",
         "type": "\"string\""
        },
        {
         "metadata": "{}",
         "name": "Service Type",
         "type": "\"string\""
        },
        {
         "metadata": "{}",
         "name": "Peak Time",
         "type": "\"string\""
        }
       ],
       "type": "table"
      }
     },
     "output_type": "display_data"
    }
   ],
   "source": [
    "%sql\n",
    "SELECT * FROM `workspace`.`default`.`salon_spa_dataset`;"
   ]
  },
  {
   "cell_type": "code",
   "execution_count": 0,
   "metadata": {
    "application/vnd.databricks.v1+cell": {
     "cellMetadata": {
      "byteLimit": 2048000,
      "implicitDf": true,
      "rowLimit": 10000
     },
     "inputWidgets": {},
     "nuid": "56fe95c4-19e2-49d5-a3bc-d8b8572f5b4e",
     "showTitle": false,
     "tableResultSettingsMap": {},
     "title": ""
    }
   },
   "outputs": [
    {
     "output_type": "display_data",
     "data": {
      "text/html": [
       "<style scoped>\n",
       "  .table-result-container {\n",
       "    max-height: 300px;\n",
       "    overflow: auto;\n",
       "  }\n",
       "  table, th, td {\n",
       "    border: 1px solid black;\n",
       "    border-collapse: collapse;\n",
       "  }\n",
       "  th, td {\n",
       "    padding: 5px;\n",
       "  }\n",
       "  th {\n",
       "    text-align: left;\n",
       "  }\n",
       "</style><div class='table-result-container'><table class='table-result'><thead style='background-color: white'><tr><th>Service Type</th><th>Total_Bookings</th></tr></thead><tbody><tr><td>Haircut</td><td>26</td></tr><tr><td>Spa Package</td><td>24</td></tr><tr><td>Pedicure</td><td>21</td></tr><tr><td>Facial</td><td>13</td></tr><tr><td>Massage</td><td>10</td></tr><tr><td>Manicure</td><td>6</td></tr></tbody></table></div>"
      ]
     },
     "metadata": {
      "application/vnd.databricks.v1+output": {
       "addedWidgets": {},
       "aggData": [],
       "aggError": "",
       "aggOverflow": false,
       "aggSchema": [],
       "aggSeriesLimitReached": false,
       "aggType": "",
       "arguments": {},
       "columnCustomDisplayInfos": {},
       "data": [
        [
         "Haircut",
         26
        ],
        [
         "Spa Package",
         24
        ],
        [
         "Pedicure",
         21
        ],
        [
         "Facial",
         13
        ],
        [
         "Massage",
         10
        ],
        [
         "Manicure",
         6
        ]
       ],
       "datasetInfos": [
        {
         "name": "_sqldf",
         "schema": {
          "fields": [
           {
            "metadata": {},
            "name": "Service Type",
            "nullable": true,
            "type": "string"
           },
           {
            "metadata": {},
            "name": "Total_Bookings",
            "nullable": false,
            "type": "long"
           }
          ],
          "type": "struct"
         },
         "tableIdentifier": null,
         "typeStr": "pyspark.sql.connect.dataframe.DataFrame"
        }
       ],
       "dbfsResultPath": null,
       "isJsonSchema": true,
       "metadata": {
        "createTempViewForImplicitDf": true,
        "dataframeName": "_sqldf",
        "executionCount": 7
       },
       "overflow": false,
       "plotOptions": {
        "customPlotOptions": {},
        "displayType": "table",
        "pivotAggregation": null,
        "pivotColumns": null,
        "xColumns": null,
        "yColumns": null
       },
       "removedWidgets": [],
       "schema": [
        {
         "metadata": "{}",
         "name": "Service Type",
         "type": "\"string\""
        },
        {
         "metadata": "{}",
         "name": "Total_Bookings",
         "type": "\"long\""
        }
       ],
       "type": "table"
      }
     },
     "output_type": "display_data"
    },
    {
     "output_type": "display_data",
     "data": {
      "text/plain": [
       "Databricks visualization. Run in Databricks to view."
      ]
     },
     "metadata": {
      "application/vnd.databricks.v1.subcommand+json": {
       "baseErrorDetails": null,
       "bindings": {},
       "collapsed": false,
       "command": "%sql WITH q AS (SELECT `Service Type`, COUNT(*) AS Total_Bookings\nFROM salon_spa_dataset\nGROUP BY `Service Type`\nORDER BY Total_Bookings DESC) SELECT `Service Type`,SUM(`Total_Bookings`) `column_2198cfae137` FROM q GROUP BY `Service Type`",
       "commandTitle": "Popular Service",
       "commandType": "auto",
       "commandVersion": 0,
       "commentThread": [],
       "commentsVisible": false,
       "contentSha256Hex": null,
       "customPlotOptions": {
        "redashChart": [
         {
          "key": "type",
          "value": "CHART"
         },
         {
          "key": "options",
          "value": {
           "alignYAxesAtZero": true,
           "coefficient": 1,
           "columnConfigurationMap": {
            "x": {
             "column": "Service Type",
             "id": "column_2198cfae136"
            },
            "y": [
             {
              "column": "Total_Bookings",
              "id": "column_2198cfae137",
              "transform": "SUM"
             }
            ]
           },
           "dateTimeFormat": "DD/MM/YYYY HH:mm",
           "direction": {
            "type": "counterclockwise"
           },
           "error_y": {
            "type": "data",
            "visible": true
           },
           "globalSeriesType": "column",
           "isAggregationOn": true,
           "legend": {
            "traceorder": "normal"
           },
           "missingValuesAsZero": true,
           "numberFormat": "0,0.[00000]",
           "percentFormat": "0[.]00%",
           "series": {
            "error_y": {
             "type": "data",
             "visible": true
            },
            "stacking": null
           },
           "seriesOptions": {
            "column_2198cfae137": {
             "name": "Total_Bookings",
             "yAxis": 0
            }
           },
           "showDataLabels": false,
           "sizemode": "diameter",
           "sortX": true,
           "sortY": true,
           "swappedAxes": false,
           "textFormat": "",
           "useAggregationsUi": true,
           "valuesOptions": {},
           "version": 2,
           "xAxis": {
            "labels": {
             "enabled": true
            },
            "type": "-"
           },
           "yAxis": [
            {
             "type": "-"
            },
            {
             "opposite": true,
             "type": "-"
            }
           ]
          }
         }
        ]
       },
       "datasetPreviewNameToCmdIdMap": {},
       "diffDeletes": [],
       "diffInserts": [],
       "displayType": "redashChart",
       "error": null,
       "errorDetails": null,
       "errorSummary": null,
       "errorTraceType": null,
       "finishTime": 0,
       "globalVars": {},
       "guid": "",
       "height": "auto",
       "hideCommandCode": false,
       "hideCommandResult": false,
       "iPythonMetadata": null,
       "inputWidgets": {},
       "isLockedInExamMode": false,
       "latestAssumeRoleInfo": null,
       "latestUser": "a user",
       "latestUserId": null,
       "listResultMetadata": null,
       "metadata": {},
       "nuid": "c6632caf-f7fc-41f7-8301-00daecf38811",
       "origId": 0,
       "parentHierarchy": [],
       "pivotAggregation": null,
       "pivotColumns": null,
       "position": 3.0,
       "resultDbfsErrorMessage": null,
       "resultDbfsStatus": "INLINED_IN_TREE",
       "results": null,
       "showCommandTitle": false,
       "startTime": 0,
       "state": "input",
       "streamStates": {},
       "subcommandOptions": {
        "queryPlan": {
         "groups": [
          {
           "column": "Service Type",
           "type": "column"
          }
         ],
         "selects": [
          {
           "column": "Service Type",
           "type": "column"
          },
          {
           "alias": "column_2198cfae137",
           "args": [
            {
             "column": "Total_Bookings",
             "type": "column"
            }
           ],
           "function": "SUM",
           "type": "function"
          }
         ]
        }
       },
       "submitTime": 0,
       "subtype": "tableResultSubCmd.visualization",
       "tableResultIndex": 0,
       "tableResultSettingsMap": {},
       "useConsistentColors": false,
       "version": "CommandV1",
       "width": "auto",
       "workflows": [],
       "xColumns": null,
       "yColumns": null
      }
     },
     "output_type": "display_data"
    }
   ],
   "source": [
    "%sql\n",
    "SELECT `Service Type`, COUNT(*) AS Total_Bookings\n",
    "FROM salon_spa_dataset\n",
    "GROUP BY `Service Type`\n",
    "ORDER BY Total_Bookings DESC;\n"
   ]
  },
  {
   "cell_type": "code",
   "execution_count": 0,
   "metadata": {
    "application/vnd.databricks.v1+cell": {
     "cellMetadata": {
      "byteLimit": 2048000,
      "implicitDf": true,
      "rowLimit": 10000
     },
     "inputWidgets": {},
     "nuid": "241bd142-93f8-492c-a283-9f2789850689",
     "showTitle": false,
     "tableResultSettingsMap": {},
     "title": ""
    }
   },
   "outputs": [
    {
     "output_type": "display_data",
     "data": {
      "text/html": [
       "<style scoped>\n",
       "  .table-result-container {\n",
       "    max-height: 300px;\n",
       "    overflow: auto;\n",
       "  }\n",
       "  table, th, td {\n",
       "    border: 1px solid black;\n",
       "    border-collapse: collapse;\n",
       "  }\n",
       "  th, td {\n",
       "    padding: 5px;\n",
       "  }\n",
       "  th {\n",
       "    text-align: left;\n",
       "  }\n",
       "</style><div class='table-result-container'><table class='table-result'><thead style='background-color: white'><tr><th>Peak Time</th><th>Total_Visits</th></tr></thead><tbody><tr><td>Afternoon</td><td>32</td></tr><tr><td>Evening</td><td>27</td></tr><tr><td>Weekend</td><td>25</td></tr><tr><td>Morning</td><td>16</td></tr></tbody></table></div>"
      ]
     },
     "metadata": {
      "application/vnd.databricks.v1+output": {
       "addedWidgets": {},
       "aggData": [],
       "aggError": "",
       "aggOverflow": false,
       "aggSchema": [],
       "aggSeriesLimitReached": false,
       "aggType": "",
       "arguments": {},
       "columnCustomDisplayInfos": {},
       "data": [
        [
         "Afternoon",
         32
        ],
        [
         "Evening",
         27
        ],
        [
         "Weekend",
         25
        ],
        [
         "Morning",
         16
        ]
       ],
       "datasetInfos": [
        {
         "name": "_sqldf",
         "schema": {
          "fields": [
           {
            "metadata": {},
            "name": "Peak Time",
            "nullable": true,
            "type": "string"
           },
           {
            "metadata": {},
            "name": "Total_Visits",
            "nullable": false,
            "type": "long"
           }
          ],
          "type": "struct"
         },
         "tableIdentifier": null,
         "typeStr": "pyspark.sql.connect.dataframe.DataFrame"
        }
       ],
       "dbfsResultPath": null,
       "isJsonSchema": true,
       "metadata": {
        "createTempViewForImplicitDf": true,
        "dataframeName": "_sqldf",
        "executionCount": 10
       },
       "overflow": false,
       "plotOptions": {
        "customPlotOptions": {},
        "displayType": "table",
        "pivotAggregation": null,
        "pivotColumns": null,
        "xColumns": null,
        "yColumns": null
       },
       "removedWidgets": [],
       "schema": [
        {
         "metadata": "{}",
         "name": "Peak Time",
         "type": "\"string\""
        },
        {
         "metadata": "{}",
         "name": "Total_Visits",
         "type": "\"long\""
        }
       ],
       "type": "table"
      }
     },
     "output_type": "display_data"
    },
    {
     "output_type": "display_data",
     "data": {
      "text/plain": [
       "Databricks visualization. Run in Databricks to view."
      ]
     },
     "metadata": {
      "application/vnd.databricks.v1.subcommand+json": {
       "baseErrorDetails": null,
       "bindings": {},
       "collapsed": false,
       "command": "%sql WITH q AS (SELECT `Peak Time`, COUNT(*) AS Total_Visits\nFROM salon_spa_dataset\nGROUP BY `Peak Time`\nORDER BY Total_Visits DESC) SELECT `Peak Time`,SUM(`Total_Visits`) `column_2198cfae147` FROM q GROUP BY `Peak Time`",
       "commandTitle": "Peak Time Analysis",
       "commandType": "auto",
       "commandVersion": 0,
       "commentThread": [],
       "commentsVisible": false,
       "contentSha256Hex": null,
       "customPlotOptions": {
        "redashChart": [
         {
          "key": "type",
          "value": "CHART"
         },
         {
          "key": "options",
          "value": {
           "alignYAxesAtZero": true,
           "coefficient": 1,
           "columnConfigurationMap": {
            "x": {
             "column": "Peak Time",
             "id": "column_2198cfae146"
            },
            "y": [
             {
              "column": "Total_Visits",
              "id": "column_2198cfae147",
              "transform": "SUM"
             }
            ]
           },
           "dateTimeFormat": "DD/MM/YYYY HH:mm",
           "direction": {
            "type": "counterclockwise"
           },
           "error_y": {
            "type": "data",
            "visible": true
           },
           "globalSeriesType": "pie",
           "legend": {
            "traceorder": "normal"
           },
           "missingValuesAsZero": true,
           "numberFormat": "0,0.[00000]",
           "percentFormat": "0[.]00%",
           "series": {
            "error_y": {
             "type": "data",
             "visible": true
            },
            "stacking": null
           },
           "seriesOptions": {
            "column_2198cfae147": {
             "name": "Total_Visits",
             "type": "pie",
             "yAxis": 0
            }
           },
           "showDataLabels": true,
           "sizemode": "diameter",
           "sortX": true,
           "sortY": true,
           "swappedAxes": false,
           "textFormat": "",
           "useAggregationsUi": true,
           "valuesOptions": {},
           "version": 2,
           "xAxis": {
            "labels": {
             "enabled": true
            },
            "type": "-"
           },
           "yAxis": [
            {
             "type": "-"
            },
            {
             "opposite": true,
             "type": "-"
            }
           ]
          }
         }
        ]
       },
       "datasetPreviewNameToCmdIdMap": {},
       "diffDeletes": [],
       "diffInserts": [],
       "displayType": "redashChart",
       "error": null,
       "errorDetails": null,
       "errorSummary": null,
       "errorTraceType": null,
       "finishTime": 0,
       "globalVars": {},
       "guid": "",
       "height": "auto",
       "hideCommandCode": false,
       "hideCommandResult": false,
       "iPythonMetadata": null,
       "inputWidgets": {},
       "isLockedInExamMode": false,
       "latestAssumeRoleInfo": null,
       "latestUser": "a user",
       "latestUserId": null,
       "listResultMetadata": null,
       "metadata": {},
       "nuid": "6859035d-da6f-46a6-a741-52fbe2d6612f",
       "origId": 0,
       "parentHierarchy": [],
       "pivotAggregation": null,
       "pivotColumns": null,
       "position": 4.0,
       "resultDbfsErrorMessage": null,
       "resultDbfsStatus": "INLINED_IN_TREE",
       "results": null,
       "showCommandTitle": false,
       "startTime": 0,
       "state": "input",
       "streamStates": {},
       "subcommandOptions": {
        "queryPlan": {
         "groups": [
          {
           "column": "Peak Time",
           "type": "column"
          }
         ],
         "selects": [
          {
           "column": "Peak Time",
           "type": "column"
          },
          {
           "alias": "column_2198cfae147",
           "args": [
            {
             "column": "Total_Visits",
             "type": "column"
            }
           ],
           "function": "SUM",
           "type": "function"
          }
         ]
        }
       },
       "submitTime": 0,
       "subtype": "tableResultSubCmd.visualization",
       "tableResultIndex": 0,
       "tableResultSettingsMap": {},
       "useConsistentColors": false,
       "version": "CommandV1",
       "width": "auto",
       "workflows": [],
       "xColumns": null,
       "yColumns": null
      }
     },
     "output_type": "display_data"
    }
   ],
   "source": [
    "%sql\n",
    "SELECT `Peak Time`, COUNT(*) AS Total_Visits\n",
    "FROM salon_spa_dataset\n",
    "GROUP BY `Peak Time`\n",
    "ORDER BY Total_Visits DESC;\n"
   ]
  },
  {
   "cell_type": "code",
   "execution_count": 0,
   "metadata": {
    "application/vnd.databricks.v1+cell": {
     "cellMetadata": {
      "byteLimit": 2048000,
      "implicitDf": true,
      "rowLimit": 10000
     },
     "inputWidgets": {},
     "nuid": "e1cc84ba-2b95-4ad8-b804-4dd1a1df3f74",
     "showTitle": false,
     "tableResultSettingsMap": {},
     "title": ""
    }
   },
   "outputs": [
    {
     "output_type": "display_data",
     "data": {
      "text/html": [
       "<style scoped>\n",
       "  .table-result-container {\n",
       "    max-height: 300px;\n",
       "    overflow: auto;\n",
       "  }\n",
       "  table, th, td {\n",
       "    border: 1px solid black;\n",
       "    border-collapse: collapse;\n",
       "  }\n",
       "  th, td {\n",
       "    padding: 5px;\n",
       "  }\n",
       "  th {\n",
       "    text-align: left;\n",
       "  }\n",
       "</style><div class='table-result-container'><table class='table-result'><thead style='background-color: white'><tr><th>Membership Status</th><th>Members</th></tr></thead><tbody><tr><td>Gold</td><td>26</td></tr><tr><td>Yes</td><td>20</td></tr><tr><td>No</td><td>20</td></tr><tr><td>Platinum</td><td>20</td></tr><tr><td>Silver</td><td>14</td></tr></tbody></table></div>"
      ]
     },
     "metadata": {
      "application/vnd.databricks.v1+output": {
       "addedWidgets": {},
       "aggData": [],
       "aggError": "",
       "aggOverflow": false,
       "aggSchema": [],
       "aggSeriesLimitReached": false,
       "aggType": "",
       "arguments": {},
       "columnCustomDisplayInfos": {},
       "data": [
        [
         "Gold",
         26
        ],
        [
         "Yes",
         20
        ],
        [
         "No",
         20
        ],
        [
         "Platinum",
         20
        ],
        [
         "Silver",
         14
        ]
       ],
       "datasetInfos": [
        {
         "name": "_sqldf",
         "schema": {
          "fields": [
           {
            "metadata": {},
            "name": "Membership Status",
            "nullable": true,
            "type": "string"
           },
           {
            "metadata": {},
            "name": "Members",
            "nullable": false,
            "type": "long"
           }
          ],
          "type": "struct"
         },
         "tableIdentifier": null,
         "typeStr": "pyspark.sql.connect.dataframe.DataFrame"
        }
       ],
       "dbfsResultPath": null,
       "isJsonSchema": true,
       "metadata": {
        "createTempViewForImplicitDf": true,
        "dataframeName": "_sqldf",
        "executionCount": 12
       },
       "overflow": false,
       "plotOptions": {
        "customPlotOptions": {},
        "displayType": "table",
        "pivotAggregation": null,
        "pivotColumns": null,
        "xColumns": null,
        "yColumns": null
       },
       "removedWidgets": [],
       "schema": [
        {
         "metadata": "{}",
         "name": "Membership Status",
         "type": "\"string\""
        },
        {
         "metadata": "{}",
         "name": "Members",
         "type": "\"long\""
        }
       ],
       "type": "table"
      }
     },
     "output_type": "display_data"
    },
    {
     "output_type": "display_data",
     "data": {
      "text/plain": [
       "Databricks visualization. Run in Databricks to view."
      ]
     },
     "metadata": {
      "application/vnd.databricks.v1.subcommand+json": {
       "baseErrorDetails": null,
       "bindings": {},
       "collapsed": false,
       "command": "%sql WITH q AS (SELECT `Membership Status`, COUNT(*) AS Members\nFROM salon_spa_dataset\nGROUP BY `Membership Status`\nORDER BY Members DESC) SELECT `Membership Status`,SUM(`Members`) `column_2198cfae157` FROM q GROUP BY `Membership Status`",
       "commandTitle": "Membership Distribution",
       "commandType": "auto",
       "commandVersion": 0,
       "commentThread": [],
       "commentsVisible": false,
       "contentSha256Hex": null,
       "customPlotOptions": {
        "redashChart": [
         {
          "key": "type",
          "value": "CHART"
         },
         {
          "key": "options",
          "value": {
           "alignYAxesAtZero": true,
           "coefficient": 1,
           "columnConfigurationMap": {
            "x": {
             "column": "Membership Status",
             "id": "column_2198cfae156"
            },
            "y": [
             {
              "column": "Members",
              "id": "column_2198cfae157",
              "transform": "SUM"
             }
            ]
           },
           "dateTimeFormat": "DD/MM/YYYY HH:mm",
           "direction": {
            "type": "counterclockwise"
           },
           "error_y": {
            "type": "data",
            "visible": true
           },
           "globalSeriesType": "area",
           "isAggregationOn": true,
           "legend": {
            "traceorder": "normal"
           },
           "missingValuesAsZero": true,
           "numberFormat": "0,0.[00000]",
           "percentFormat": "0[.]00%",
           "series": {
            "error_y": {
             "type": "data",
             "visible": true
            },
            "stacking": null
           },
           "seriesOptions": {
            "Members": {
             "name": "Members",
             "type": "area",
             "yAxis": 0
            },
            "column_2198cfae157": {
             "name": "Members",
             "type": "area",
             "yAxis": 0
            }
           },
           "showDataLabels": false,
           "sizemode": "diameter",
           "sortX": true,
           "sortY": true,
           "swappedAxes": false,
           "textFormat": "",
           "useAggregationsUi": true,
           "valuesOptions": {},
           "version": 2,
           "xAxis": {
            "labels": {
             "enabled": true
            },
            "type": "-"
           },
           "yAxis": [
            {
             "type": "-"
            },
            {
             "opposite": true,
             "type": "-"
            }
           ]
          }
         }
        ]
       },
       "datasetPreviewNameToCmdIdMap": {},
       "diffDeletes": [],
       "diffInserts": [],
       "displayType": "redashChart",
       "error": null,
       "errorDetails": null,
       "errorSummary": null,
       "errorTraceType": null,
       "finishTime": 0,
       "globalVars": {},
       "guid": "",
       "height": "auto",
       "hideCommandCode": false,
       "hideCommandResult": false,
       "iPythonMetadata": null,
       "inputWidgets": {},
       "isLockedInExamMode": false,
       "latestAssumeRoleInfo": null,
       "latestUser": "a user",
       "latestUserId": null,
       "listResultMetadata": null,
       "metadata": {},
       "nuid": "57429846-6cae-46b2-866a-b990bf85f734",
       "origId": 0,
       "parentHierarchy": [],
       "pivotAggregation": null,
       "pivotColumns": null,
       "position": 5.0,
       "resultDbfsErrorMessage": null,
       "resultDbfsStatus": "INLINED_IN_TREE",
       "results": null,
       "showCommandTitle": false,
       "startTime": 0,
       "state": "input",
       "streamStates": {},
       "subcommandOptions": {
        "queryPlan": {
         "groups": [
          {
           "column": "Membership Status",
           "type": "column"
          }
         ],
         "selects": [
          {
           "column": "Membership Status",
           "type": "column"
          },
          {
           "alias": "column_2198cfae157",
           "args": [
            {
             "column": "Members",
             "type": "column"
            }
           ],
           "function": "SUM",
           "type": "function"
          }
         ]
        }
       },
       "submitTime": 0,
       "subtype": "tableResultSubCmd.visualization",
       "tableResultIndex": 0,
       "tableResultSettingsMap": {},
       "useConsistentColors": false,
       "version": "CommandV1",
       "width": "auto",
       "workflows": [],
       "xColumns": null,
       "yColumns": null
      }
     },
     "output_type": "display_data"
    }
   ],
   "source": [
    "%sql\n",
    "SELECT `Membership Status`, COUNT(*) AS Members\n",
    "FROM salon_spa_dataset\n",
    "GROUP BY `Membership Status`\n",
    "ORDER BY Members DESC;\n"
   ]
  },
  {
   "cell_type": "code",
   "execution_count": 0,
   "metadata": {
    "application/vnd.databricks.v1+cell": {
     "cellMetadata": {
      "byteLimit": 2048000,
      "implicitDf": true,
      "rowLimit": 10000
     },
     "inputWidgets": {},
     "nuid": "21bffa6f-fdf6-4555-9680-6a197cb391d1",
     "showTitle": false,
     "tableResultSettingsMap": {},
     "title": ""
    }
   },
   "outputs": [
    {
     "output_type": "display_data",
     "data": {
      "text/html": [
       "<style scoped>\n",
       "  .table-result-container {\n",
       "    max-height: 300px;\n",
       "    overflow: auto;\n",
       "  }\n",
       "  table, th, td {\n",
       "    border: 1px solid black;\n",
       "    border-collapse: collapse;\n",
       "  }\n",
       "  th, td {\n",
       "    padding: 5px;\n",
       "  }\n",
       "  th {\n",
       "    text-align: left;\n",
       "  }\n",
       "</style><div class='table-result-container'><table class='table-result'><thead style='background-color: white'><tr><th>Service Type</th><th>Avg_Rating</th></tr></thead><tbody><tr><td>Facial</td><td>4.461538461538462</td></tr><tr><td>Spa Package</td><td>3.375</td></tr><tr><td>Haircut</td><td>3.269230769230769</td></tr><tr><td>Massage</td><td>3.2</td></tr><tr><td>Pedicure</td><td>2.238095238095238</td></tr><tr><td>Manicure</td><td>2.0</td></tr></tbody></table></div>"
      ]
     },
     "metadata": {
      "application/vnd.databricks.v1+output": {
       "addedWidgets": {},
       "aggData": [],
       "aggError": "",
       "aggOverflow": false,
       "aggSchema": [],
       "aggSeriesLimitReached": false,
       "aggType": "",
       "arguments": {},
       "columnCustomDisplayInfos": {},
       "data": [
        [
         "Facial",
         4.461538461538462
        ],
        [
         "Spa Package",
         3.375
        ],
        [
         "Haircut",
         3.269230769230769
        ],
        [
         "Massage",
         3.2
        ],
        [
         "Pedicure",
         2.238095238095238
        ],
        [
         "Manicure",
         2.0
        ]
       ],
       "datasetInfos": [
        {
         "name": "_sqldf",
         "schema": {
          "fields": [
           {
            "metadata": {},
            "name": "Service Type",
            "nullable": true,
            "type": "string"
           },
           {
            "metadata": {},
            "name": "Avg_Rating",
            "nullable": true,
            "type": "double"
           }
          ],
          "type": "struct"
         },
         "tableIdentifier": null,
         "typeStr": "pyspark.sql.connect.dataframe.DataFrame"
        }
       ],
       "dbfsResultPath": null,
       "isJsonSchema": true,
       "metadata": {
        "createTempViewForImplicitDf": true,
        "dataframeName": "_sqldf",
        "executionCount": 15
       },
       "overflow": false,
       "plotOptions": {
        "customPlotOptions": {},
        "displayType": "table",
        "pivotAggregation": null,
        "pivotColumns": null,
        "xColumns": null,
        "yColumns": null
       },
       "removedWidgets": [],
       "schema": [
        {
         "metadata": "{}",
         "name": "Service Type",
         "type": "\"string\""
        },
        {
         "metadata": "{}",
         "name": "Avg_Rating",
         "type": "\"double\""
        }
       ],
       "type": "table"
      }
     },
     "output_type": "display_data"
    },
    {
     "output_type": "display_data",
     "data": {
      "text/plain": [
       "Databricks visualization. Run in Databricks to view."
      ]
     },
     "metadata": {
      "application/vnd.databricks.v1.subcommand+json": {
       "baseErrorDetails": null,
       "bindings": {},
       "collapsed": false,
       "command": "%sql WITH q AS (SELECT `Service Type`, AVG(`Customer Feedback/Rating`) AS Avg_Rating\nFROM salon_spa_dataset\nGROUP BY `Service Type`\nORDER BY Avg_Rating DESC) SELECT `Service Type`,SUM(`Avg_Rating`) `column_2198cfae169` FROM q GROUP BY `Service Type`",
       "commandTitle": "Average Rating by Service",
       "commandType": "auto",
       "commandVersion": 0,
       "commentThread": [],
       "commentsVisible": false,
       "contentSha256Hex": null,
       "customPlotOptions": {
        "redashChart": [
         {
          "key": "type",
          "value": "CHART"
         },
         {
          "key": "options",
          "value": {
           "alignYAxesAtZero": true,
           "coefficient": 1,
           "columnConfigurationMap": {
            "x": {
             "column": "Service Type",
             "id": "column_2198cfae168"
            },
            "y": [
             {
              "column": "Avg_Rating",
              "id": "column_2198cfae169",
              "transform": "SUM"
             }
            ]
           },
           "dateTimeFormat": "DD/MM/YYYY HH:mm",
           "direction": {
            "type": "counterclockwise"
           },
           "error_y": {
            "type": "data",
            "visible": true
           },
           "globalSeriesType": "column",
           "isAggregationOn": true,
           "legend": {
            "traceorder": "normal"
           },
           "missingValuesAsZero": true,
           "numberFormat": "0,0.[00000]",
           "percentFormat": "0[.]00%",
           "series": {
            "error_y": {
             "type": "data",
             "visible": true
            },
            "stacking": null
           },
           "seriesOptions": {
            "column_2198cfae169": {
             "color": "#99DDB4",
             "name": "Avg_Rating",
             "yAxis": 0
            }
           },
           "showDataLabels": false,
           "sizemode": "diameter",
           "sortX": true,
           "sortY": true,
           "swappedAxes": false,
           "textFormat": "",
           "useAggregationsUi": true,
           "valuesOptions": {},
           "version": 2,
           "xAxis": {
            "labels": {
             "enabled": true
            },
            "type": "-"
           },
           "yAxis": [
            {
             "type": "-"
            },
            {
             "opposite": true,
             "type": "-"
            }
           ]
          }
         }
        ]
       },
       "datasetPreviewNameToCmdIdMap": {},
       "diffDeletes": [],
       "diffInserts": [],
       "displayType": "redashChart",
       "error": null,
       "errorDetails": null,
       "errorSummary": null,
       "errorTraceType": null,
       "finishTime": 0,
       "globalVars": {},
       "guid": "",
       "height": "auto",
       "hideCommandCode": false,
       "hideCommandResult": false,
       "iPythonMetadata": null,
       "inputWidgets": {},
       "isLockedInExamMode": false,
       "latestAssumeRoleInfo": null,
       "latestUser": "a user",
       "latestUserId": null,
       "listResultMetadata": null,
       "metadata": {},
       "nuid": "cfcaaa37-c7fa-4261-85b7-f8d8987c921f",
       "origId": 0,
       "parentHierarchy": [],
       "pivotAggregation": null,
       "pivotColumns": null,
       "position": 6.0,
       "resultDbfsErrorMessage": null,
       "resultDbfsStatus": "INLINED_IN_TREE",
       "results": null,
       "showCommandTitle": false,
       "startTime": 0,
       "state": "input",
       "streamStates": {},
       "subcommandOptions": {
        "queryPlan": {
         "groups": [
          {
           "column": "Service Type",
           "type": "column"
          }
         ],
         "selects": [
          {
           "column": "Service Type",
           "type": "column"
          },
          {
           "alias": "column_2198cfae169",
           "args": [
            {
             "column": "Avg_Rating",
             "type": "column"
            }
           ],
           "function": "SUM",
           "type": "function"
          }
         ]
        }
       },
       "submitTime": 0,
       "subtype": "tableResultSubCmd.visualization",
       "tableResultIndex": 0,
       "tableResultSettingsMap": {},
       "useConsistentColors": false,
       "version": "CommandV1",
       "width": "auto",
       "workflows": [],
       "xColumns": null,
       "yColumns": null
      }
     },
     "output_type": "display_data"
    }
   ],
   "source": [
    "%sql\n",
    "SELECT `Service Type`, AVG(`Customer Feedback/Rating`) AS Avg_Rating\n",
    "FROM salon_spa_dataset\n",
    "GROUP BY `Service Type`\n",
    "ORDER BY Avg_Rating DESC;\n"
   ]
  },
  {
   "cell_type": "code",
   "execution_count": 0,
   "metadata": {
    "application/vnd.databricks.v1+cell": {
     "cellMetadata": {
      "byteLimit": 2048000,
      "implicitDf": true,
      "rowLimit": 10000
     },
     "inputWidgets": {},
     "nuid": "084b250b-0ceb-4a4f-9565-c08d4aba26f9",
     "showTitle": false,
     "tableResultSettingsMap": {},
     "title": ""
    }
   },
   "outputs": [
    {
     "output_type": "display_data",
     "data": {
      "text/html": [
       "<style scoped>\n",
       "  .table-result-container {\n",
       "    max-height: 300px;\n",
       "    overflow: auto;\n",
       "  }\n",
       "  table, th, td {\n",
       "    border: 1px solid black;\n",
       "    border-collapse: collapse;\n",
       "  }\n",
       "  th, td {\n",
       "    padding: 5px;\n",
       "  }\n",
       "  th {\n",
       "    text-align: left;\n",
       "  }\n",
       "</style><div class='table-result-container'><table class='table-result'><thead style='background-color: white'><tr><th>Gender</th><th>Service Type</th><th>Total</th></tr></thead><tbody><tr><td>Male</td><td>Haircut</td><td>20</td></tr><tr><td>Female</td><td>Facial</td><td>12</td></tr><tr><td>Other</td><td>Spa Package</td><td>11</td></tr><tr><td>Male</td><td>Pedicure</td><td>9</td></tr><tr><td>Male</td><td>Massage</td><td>9</td></tr><tr><td>Female</td><td>Spa Package</td><td>9</td></tr><tr><td>Other</td><td>Pedicure</td><td>6</td></tr><tr><td>Female</td><td>Pedicure</td><td>6</td></tr><tr><td>Other</td><td>Haircut</td><td>6</td></tr><tr><td>Male</td><td>Manicure</td><td>4</td></tr><tr><td>Male</td><td>Spa Package</td><td>4</td></tr><tr><td>Female</td><td>Manicure</td><td>2</td></tr><tr><td>Male</td><td>Facial</td><td>1</td></tr><tr><td>Female</td><td>Massage</td><td>1</td></tr></tbody></table></div>"
      ]
     },
     "metadata": {
      "application/vnd.databricks.v1+output": {
       "addedWidgets": {},
       "aggData": [],
       "aggError": "",
       "aggOverflow": false,
       "aggSchema": [],
       "aggSeriesLimitReached": false,
       "aggType": "",
       "arguments": {},
       "columnCustomDisplayInfos": {},
       "data": [
        [
         "Male",
         "Haircut",
         20
        ],
        [
         "Female",
         "Facial",
         12
        ],
        [
         "Other",
         "Spa Package",
         11
        ],
        [
         "Male",
         "Pedicure",
         9
        ],
        [
         "Male",
         "Massage",
         9
        ],
        [
         "Female",
         "Spa Package",
         9
        ],
        [
         "Other",
         "Pedicure",
         6
        ],
        [
         "Female",
         "Pedicure",
         6
        ],
        [
         "Other",
         "Haircut",
         6
        ],
        [
         "Male",
         "Manicure",
         4
        ],
        [
         "Male",
         "Spa Package",
         4
        ],
        [
         "Female",
         "Manicure",
         2
        ],
        [
         "Male",
         "Facial",
         1
        ],
        [
         "Female",
         "Massage",
         1
        ]
       ],
       "datasetInfos": [
        {
         "name": "_sqldf",
         "schema": {
          "fields": [
           {
            "metadata": {},
            "name": "Gender",
            "nullable": true,
            "type": "string"
           },
           {
            "metadata": {},
            "name": "Service Type",
            "nullable": true,
            "type": "string"
           },
           {
            "metadata": {},
            "name": "Total",
            "nullable": false,
            "type": "long"
           }
          ],
          "type": "struct"
         },
         "tableIdentifier": null,
         "typeStr": "pyspark.sql.connect.dataframe.DataFrame"
        }
       ],
       "dbfsResultPath": null,
       "isJsonSchema": true,
       "metadata": {
        "createTempViewForImplicitDf": true,
        "dataframeName": "_sqldf",
        "executionCount": 17
       },
       "overflow": false,
       "plotOptions": {
        "customPlotOptions": {},
        "displayType": "table",
        "pivotAggregation": null,
        "pivotColumns": null,
        "xColumns": null,
        "yColumns": null
       },
       "removedWidgets": [],
       "schema": [
        {
         "metadata": "{}",
         "name": "Gender",
         "type": "\"string\""
        },
        {
         "metadata": "{}",
         "name": "Service Type",
         "type": "\"string\""
        },
        {
         "metadata": "{}",
         "name": "Total",
         "type": "\"long\""
        }
       ],
       "type": "table"
      }
     },
     "output_type": "display_data"
    },
    {
     "output_type": "display_data",
     "data": {
      "text/plain": [
       "Databricks visualization. Run in Databricks to view."
      ]
     },
     "metadata": {
      "application/vnd.databricks.v1.subcommand+json": {
       "baseErrorDetails": null,
       "bindings": {},
       "collapsed": false,
       "command": "%sql WITH q AS (SELECT Gender, `Service Type`, COUNT(*) AS Total\nFROM salon_spa_dataset\nGROUP BY Gender, `Service Type`\nORDER BY Total DESC) SELECT `Gender`,`Service Type`,SUM(`Total`) `column_2198cfae189` FROM q GROUP BY `Gender`,`Service Type`",
       "commandTitle": "Gender vs Service Preference",
       "commandType": "auto",
       "commandVersion": 0,
       "commentThread": [],
       "commentsVisible": false,
       "contentSha256Hex": null,
       "customPlotOptions": {
        "redashChart": [
         {
          "key": "type",
          "value": "CHART"
         },
         {
          "key": "options",
          "value": {
           "alignYAxesAtZero": true,
           "coefficient": 1,
           "columnConfigurationMap": {
            "series": {
             "column": "Service Type",
             "id": "column_2198cfae188"
            },
            "x": {
             "column": "Gender",
             "id": "column_2198cfae187"
            },
            "y": [
             {
              "column": "Total",
              "id": "column_2198cfae189",
              "transform": "SUM"
             }
            ]
           },
           "dateTimeFormat": "DD/MM/YYYY HH:mm",
           "direction": {
            "type": "counterclockwise"
           },
           "error_y": {
            "type": "data",
            "visible": true
           },
           "globalSeriesType": "line",
           "legend": {
            "traceorder": "normal"
           },
           "missingValuesAsZero": true,
           "numberFormat": "0,0.[00000]",
           "percentFormat": "0[.]00%",
           "series": {
            "error_y": {
             "type": "data",
             "visible": true
            },
            "stacking": null
           },
           "seriesOptions": {
            "column_2198cfae189": {
             "name": "Total",
             "type": "line",
             "yAxis": 0
            }
           },
           "showDataLabels": false,
           "sizemode": "diameter",
           "sortX": true,
           "sortY": true,
           "swappedAxes": false,
           "textFormat": "",
           "useAggregationsUi": true,
           "valuesOptions": {},
           "version": 2,
           "xAxis": {
            "labels": {
             "enabled": true
            },
            "type": "-"
           },
           "yAxis": [
            {
             "type": "-"
            },
            {
             "opposite": true,
             "type": "-"
            }
           ]
          }
         }
        ]
       },
       "datasetPreviewNameToCmdIdMap": {},
       "diffDeletes": [],
       "diffInserts": [],
       "displayType": "redashChart",
       "error": null,
       "errorDetails": null,
       "errorSummary": null,
       "errorTraceType": null,
       "finishTime": 0,
       "globalVars": {},
       "guid": "",
       "height": "auto",
       "hideCommandCode": false,
       "hideCommandResult": false,
       "iPythonMetadata": null,
       "inputWidgets": {},
       "isLockedInExamMode": false,
       "latestAssumeRoleInfo": null,
       "latestUser": "a user",
       "latestUserId": null,
       "listResultMetadata": null,
       "metadata": {},
       "nuid": "3a8707c3-e3b6-402c-a0f3-358eb80d5948",
       "origId": 0,
       "parentHierarchy": [],
       "pivotAggregation": null,
       "pivotColumns": null,
       "position": 7.0,
       "resultDbfsErrorMessage": null,
       "resultDbfsStatus": "INLINED_IN_TREE",
       "results": null,
       "showCommandTitle": false,
       "startTime": 0,
       "state": "input",
       "streamStates": {},
       "subcommandOptions": {
        "queryPlan": {
         "groups": [
          {
           "column": "Gender",
           "type": "column"
          },
          {
           "column": "Service Type",
           "type": "column"
          }
         ],
         "selects": [
          {
           "column": "Gender",
           "type": "column"
          },
          {
           "column": "Service Type",
           "type": "column"
          },
          {
           "alias": "column_2198cfae189",
           "args": [
            {
             "column": "Total",
             "type": "column"
            }
           ],
           "function": "SUM",
           "type": "function"
          }
         ]
        }
       },
       "submitTime": 0,
       "subtype": "tableResultSubCmd.visualization",
       "tableResultIndex": 0,
       "tableResultSettingsMap": {},
       "useConsistentColors": false,
       "version": "CommandV1",
       "width": "auto",
       "workflows": [],
       "xColumns": null,
       "yColumns": null
      }
     },
     "output_type": "display_data"
    }
   ],
   "source": [
    "%sql\n",
    "SELECT Gender, `Service Type`, COUNT(*) AS Total\n",
    "FROM salon_spa_dataset\n",
    "GROUP BY Gender, `Service Type`\n",
    "ORDER BY Total DESC;\n"
   ]
  }
 ],
 "metadata": {
  "application/vnd.databricks.v1+notebook": {
   "computePreferences": null,
   "dashboards": [
    {
     "elements": [
      {
       "dashboardResultIndex": null,
       "elementNUID": "6859035d-da6f-46a6-a741-52fbe2d6612f",
       "elementType": "command",
       "guid": "02884d44-ef58-463e-987e-df34d37fd3b8",
       "options": null,
       "position": {
        "height": 6,
        "width": 12,
        "x": 0,
        "y": 0,
        "z": null
       },
       "resultIndex": null
      },
      {
       "dashboardResultIndex": null,
       "elementNUID": "cfcaaa37-c7fa-4261-85b7-f8d8987c921f",
       "elementType": "command",
       "guid": "5e1b5c7c-1470-4205-a62c-07c37be2fc8d",
       "options": null,
       "position": {
        "height": 6,
        "width": 12,
        "x": 12,
        "y": 0,
        "z": null
       },
       "resultIndex": null
      },
      {
       "dashboardResultIndex": null,
       "elementNUID": "57429846-6cae-46b2-866a-b990bf85f734",
       "elementType": "command",
       "guid": "63894b11-aaa0-45a2-9f2e-a24857e697d6",
       "options": null,
       "position": {
        "height": 6,
        "width": 12,
        "x": 0,
        "y": 6,
        "z": null
       },
       "resultIndex": null
      },
      {
       "dashboardResultIndex": null,
       "elementNUID": "3a8707c3-e3b6-402c-a0f3-358eb80d5948",
       "elementType": "command",
       "guid": "abe6e56c-2d5b-4fb2-9f24-cc158e9a3fb3",
       "options": null,
       "position": {
        "height": 6,
        "width": 12,
        "x": 0,
        "y": 12,
        "z": null
       },
       "resultIndex": null
      },
      {
       "dashboardResultIndex": null,
       "elementNUID": "c6632caf-f7fc-41f7-8301-00daecf38811",
       "elementType": "command",
       "guid": "d3e09b04-936b-436b-9b45-84ca8163884e",
       "options": null,
       "position": {
        "height": 6,
        "width": 12,
        "x": 12,
        "y": 6,
        "z": null
       },
       "resultIndex": null
      }
     ],
     "globalVars": {},
     "guid": "",
     "layoutOption": {
      "grid": true,
      "stack": true
     },
     "nuid": "c2ed40a6-98d4-4869-a11a-cb381934563f",
     "origId": 8701589265162607,
     "title": "Salon & Spa Insights",
     "version": "DashboardViewV1",
     "width": 1024
    }
   ],
   "environmentMetadata": null,
   "inputWidgetPreferences": null,
   "language": "python",
   "notebookMetadata": {
    "mostRecentlyExecutedCommandWithImplicitDF": {
     "commandId": 8701589265162605,
     "dataframes": [
      "_sqldf"
     ]
    },
    "pythonIndentUnit": 2
   },
   "notebookName": "Explore workspace.default.salon_spa_dataset 2025-09-17 17:40:26",
   "widgets": {}
  },
  "language_info": {
   "name": "python"
  }
 },
 "nbformat": 4,
 "nbformat_minor": 0
}